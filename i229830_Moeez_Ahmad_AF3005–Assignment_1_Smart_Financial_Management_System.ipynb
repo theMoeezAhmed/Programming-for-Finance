{
  "nbformat": 4,
  "nbformat_minor": 0,
  "metadata": {
    "colab": {
      "provenance": []
    },
    "kernelspec": {
      "name": "python3",
      "display_name": "Python 3"
    },
    "language_info": {
      "name": "python"
    },
    "widgets": {
      "application/vnd.jupyter.widget-state+json": {
        "9547cbb209e840018b41a331a43044c1": {
          "model_module": "@jupyter-widgets/controls",
          "model_name": "IntTextModel",
          "model_module_version": "1.5.0",
          "state": {
            "_dom_classes": [],
            "_model_module": "@jupyter-widgets/controls",
            "_model_module_version": "1.5.0",
            "_model_name": "IntTextModel",
            "_view_count": null,
            "_view_module": "@jupyter-widgets/controls",
            "_view_module_version": "1.5.0",
            "_view_name": "IntTextView",
            "continuous_update": false,
            "description": "Income:",
            "description_tooltip": null,
            "disabled": false,
            "layout": "IPY_MODEL_745ab9e3ab1048ecaa938b4dfb4f0354",
            "step": 1,
            "style": "IPY_MODEL_73c971ee2623422a9e9cf9d5f3a69a5f",
            "value": 0
          }
        },
        "745ab9e3ab1048ecaa938b4dfb4f0354": {
          "model_module": "@jupyter-widgets/base",
          "model_name": "LayoutModel",
          "model_module_version": "1.2.0",
          "state": {
            "_model_module": "@jupyter-widgets/base",
            "_model_module_version": "1.2.0",
            "_model_name": "LayoutModel",
            "_view_count": null,
            "_view_module": "@jupyter-widgets/base",
            "_view_module_version": "1.2.0",
            "_view_name": "LayoutView",
            "align_content": null,
            "align_items": null,
            "align_self": null,
            "border": null,
            "bottom": null,
            "display": null,
            "flex": null,
            "flex_flow": null,
            "grid_area": null,
            "grid_auto_columns": null,
            "grid_auto_flow": null,
            "grid_auto_rows": null,
            "grid_column": null,
            "grid_gap": null,
            "grid_row": null,
            "grid_template_areas": null,
            "grid_template_columns": null,
            "grid_template_rows": null,
            "height": null,
            "justify_content": null,
            "justify_items": null,
            "left": null,
            "margin": null,
            "max_height": null,
            "max_width": null,
            "min_height": null,
            "min_width": null,
            "object_fit": null,
            "object_position": null,
            "order": null,
            "overflow": null,
            "overflow_x": null,
            "overflow_y": null,
            "padding": null,
            "right": null,
            "top": null,
            "visibility": null,
            "width": null
          }
        },
        "73c971ee2623422a9e9cf9d5f3a69a5f": {
          "model_module": "@jupyter-widgets/controls",
          "model_name": "DescriptionStyleModel",
          "model_module_version": "1.5.0",
          "state": {
            "_model_module": "@jupyter-widgets/controls",
            "_model_module_version": "1.5.0",
            "_model_name": "DescriptionStyleModel",
            "_view_count": null,
            "_view_module": "@jupyter-widgets/base",
            "_view_module_version": "1.2.0",
            "_view_name": "StyleView",
            "description_width": ""
          }
        },
        "ab4240645d52445da377671d5e8fcd7c": {
          "model_module": "@jupyter-widgets/controls",
          "model_name": "IntTextModel",
          "model_module_version": "1.5.0",
          "state": {
            "_dom_classes": [],
            "_model_module": "@jupyter-widgets/controls",
            "_model_module_version": "1.5.0",
            "_model_name": "IntTextModel",
            "_view_count": null,
            "_view_module": "@jupyter-widgets/controls",
            "_view_module_version": "1.5.0",
            "_view_name": "IntTextView",
            "continuous_update": false,
            "description": "Credit Score:",
            "description_tooltip": null,
            "disabled": false,
            "layout": "IPY_MODEL_856c8bd72a8e4b42ac7b542285e872d7",
            "step": 1,
            "style": "IPY_MODEL_d5e7011e36d04c4da95d09c2e5e99f37",
            "value": 0
          }
        },
        "856c8bd72a8e4b42ac7b542285e872d7": {
          "model_module": "@jupyter-widgets/base",
          "model_name": "LayoutModel",
          "model_module_version": "1.2.0",
          "state": {
            "_model_module": "@jupyter-widgets/base",
            "_model_module_version": "1.2.0",
            "_model_name": "LayoutModel",
            "_view_count": null,
            "_view_module": "@jupyter-widgets/base",
            "_view_module_version": "1.2.0",
            "_view_name": "LayoutView",
            "align_content": null,
            "align_items": null,
            "align_self": null,
            "border": null,
            "bottom": null,
            "display": null,
            "flex": null,
            "flex_flow": null,
            "grid_area": null,
            "grid_auto_columns": null,
            "grid_auto_flow": null,
            "grid_auto_rows": null,
            "grid_column": null,
            "grid_gap": null,
            "grid_row": null,
            "grid_template_areas": null,
            "grid_template_columns": null,
            "grid_template_rows": null,
            "height": null,
            "justify_content": null,
            "justify_items": null,
            "left": null,
            "margin": null,
            "max_height": null,
            "max_width": null,
            "min_height": null,
            "min_width": null,
            "object_fit": null,
            "object_position": null,
            "order": null,
            "overflow": null,
            "overflow_x": null,
            "overflow_y": null,
            "padding": null,
            "right": null,
            "top": null,
            "visibility": null,
            "width": null
          }
        },
        "d5e7011e36d04c4da95d09c2e5e99f37": {
          "model_module": "@jupyter-widgets/controls",
          "model_name": "DescriptionStyleModel",
          "model_module_version": "1.5.0",
          "state": {
            "_model_module": "@jupyter-widgets/controls",
            "_model_module_version": "1.5.0",
            "_model_name": "DescriptionStyleModel",
            "_view_count": null,
            "_view_module": "@jupyter-widgets/base",
            "_view_module_version": "1.2.0",
            "_view_name": "StyleView",
            "description_width": ""
          }
        },
        "b0d4b82635c547b8b5ebd244e6bc66cc": {
          "model_module": "@jupyter-widgets/controls",
          "model_name": "DropdownModel",
          "model_module_version": "1.5.0",
          "state": {
            "_dom_classes": [],
            "_model_module": "@jupyter-widgets/controls",
            "_model_module_version": "1.5.0",
            "_model_name": "DropdownModel",
            "_options_labels": [
              "Employed",
              "Unemployed"
            ],
            "_view_count": null,
            "_view_module": "@jupyter-widgets/controls",
            "_view_module_version": "1.5.0",
            "_view_name": "DropdownView",
            "description": "Job:",
            "description_tooltip": null,
            "disabled": false,
            "index": 0,
            "layout": "IPY_MODEL_9a5f50d4e6234313bc92f538c12ccf6e",
            "style": "IPY_MODEL_a63cb2d1f9bc4c929a5789c5ff95a78b"
          }
        },
        "9a5f50d4e6234313bc92f538c12ccf6e": {
          "model_module": "@jupyter-widgets/base",
          "model_name": "LayoutModel",
          "model_module_version": "1.2.0",
          "state": {
            "_model_module": "@jupyter-widgets/base",
            "_model_module_version": "1.2.0",
            "_model_name": "LayoutModel",
            "_view_count": null,
            "_view_module": "@jupyter-widgets/base",
            "_view_module_version": "1.2.0",
            "_view_name": "LayoutView",
            "align_content": null,
            "align_items": null,
            "align_self": null,
            "border": null,
            "bottom": null,
            "display": null,
            "flex": null,
            "flex_flow": null,
            "grid_area": null,
            "grid_auto_columns": null,
            "grid_auto_flow": null,
            "grid_auto_rows": null,
            "grid_column": null,
            "grid_gap": null,
            "grid_row": null,
            "grid_template_areas": null,
            "grid_template_columns": null,
            "grid_template_rows": null,
            "height": null,
            "justify_content": null,
            "justify_items": null,
            "left": null,
            "margin": null,
            "max_height": null,
            "max_width": null,
            "min_height": null,
            "min_width": null,
            "object_fit": null,
            "object_position": null,
            "order": null,
            "overflow": null,
            "overflow_x": null,
            "overflow_y": null,
            "padding": null,
            "right": null,
            "top": null,
            "visibility": null,
            "width": null
          }
        },
        "a63cb2d1f9bc4c929a5789c5ff95a78b": {
          "model_module": "@jupyter-widgets/controls",
          "model_name": "DescriptionStyleModel",
          "model_module_version": "1.5.0",
          "state": {
            "_model_module": "@jupyter-widgets/controls",
            "_model_module_version": "1.5.0",
            "_model_name": "DescriptionStyleModel",
            "_view_count": null,
            "_view_module": "@jupyter-widgets/base",
            "_view_module_version": "1.2.0",
            "_view_name": "StyleView",
            "description_width": ""
          }
        },
        "5aa380517ea04bc1be235633c701ccdd": {
          "model_module": "@jupyter-widgets/output",
          "model_name": "OutputModel",
          "model_module_version": "1.0.0",
          "state": {
            "_dom_classes": [],
            "_model_module": "@jupyter-widgets/output",
            "_model_module_version": "1.0.0",
            "_model_name": "OutputModel",
            "_view_count": null,
            "_view_module": "@jupyter-widgets/output",
            "_view_module_version": "1.0.0",
            "_view_name": "OutputView",
            "layout": "IPY_MODEL_da679a846c0c45a68e603295fd0aa940",
            "msg_id": "",
            "outputs": [
              {
                "output_type": "stream",
                "name": "stdout",
                "text": [
                  "Risk Level: Low Risk\n"
                ]
              }
            ]
          }
        },
        "da679a846c0c45a68e603295fd0aa940": {
          "model_module": "@jupyter-widgets/base",
          "model_name": "LayoutModel",
          "model_module_version": "1.2.0",
          "state": {
            "_model_module": "@jupyter-widgets/base",
            "_model_module_version": "1.2.0",
            "_model_name": "LayoutModel",
            "_view_count": null,
            "_view_module": "@jupyter-widgets/base",
            "_view_module_version": "1.2.0",
            "_view_name": "LayoutView",
            "align_content": null,
            "align_items": null,
            "align_self": null,
            "border": null,
            "bottom": null,
            "display": null,
            "flex": null,
            "flex_flow": null,
            "grid_area": null,
            "grid_auto_columns": null,
            "grid_auto_flow": null,
            "grid_auto_rows": null,
            "grid_column": null,
            "grid_gap": null,
            "grid_row": null,
            "grid_template_areas": null,
            "grid_template_columns": null,
            "grid_template_rows": null,
            "height": null,
            "justify_content": null,
            "justify_items": null,
            "left": null,
            "margin": null,
            "max_height": null,
            "max_width": null,
            "min_height": null,
            "min_width": null,
            "object_fit": null,
            "object_position": null,
            "order": null,
            "overflow": null,
            "overflow_x": null,
            "overflow_y": null,
            "padding": null,
            "right": null,
            "top": null,
            "visibility": null,
            "width": null
          }
        },
        "6224aa43818a49d8b42ef50c9538bb33": {
          "model_module": "@jupyter-widgets/controls",
          "model_name": "TextModel",
          "model_module_version": "1.5.0",
          "state": {
            "_dom_classes": [],
            "_model_module": "@jupyter-widgets/controls",
            "_model_module_version": "1.5.0",
            "_model_name": "TextModel",
            "_view_count": null,
            "_view_module": "@jupyter-widgets/controls",
            "_view_module_version": "1.5.0",
            "_view_name": "TextView",
            "continuous_update": true,
            "description": "Stock Returns:",
            "description_tooltip": null,
            "disabled": false,
            "layout": "IPY_MODEL_53ce38beb03f45e691129df2749bc1c7",
            "placeholder": "Comma-separated values",
            "style": "IPY_MODEL_275673313e99499ab27627b2b83b8bc9",
            "value": "1,56,333"
          }
        },
        "53ce38beb03f45e691129df2749bc1c7": {
          "model_module": "@jupyter-widgets/base",
          "model_name": "LayoutModel",
          "model_module_version": "1.2.0",
          "state": {
            "_model_module": "@jupyter-widgets/base",
            "_model_module_version": "1.2.0",
            "_model_name": "LayoutModel",
            "_view_count": null,
            "_view_module": "@jupyter-widgets/base",
            "_view_module_version": "1.2.0",
            "_view_name": "LayoutView",
            "align_content": null,
            "align_items": null,
            "align_self": null,
            "border": null,
            "bottom": null,
            "display": null,
            "flex": null,
            "flex_flow": null,
            "grid_area": null,
            "grid_auto_columns": null,
            "grid_auto_flow": null,
            "grid_auto_rows": null,
            "grid_column": null,
            "grid_gap": null,
            "grid_row": null,
            "grid_template_areas": null,
            "grid_template_columns": null,
            "grid_template_rows": null,
            "height": null,
            "justify_content": null,
            "justify_items": null,
            "left": null,
            "margin": null,
            "max_height": null,
            "max_width": null,
            "min_height": null,
            "min_width": null,
            "object_fit": null,
            "object_position": null,
            "order": null,
            "overflow": null,
            "overflow_x": null,
            "overflow_y": null,
            "padding": null,
            "right": null,
            "top": null,
            "visibility": null,
            "width": null
          }
        },
        "275673313e99499ab27627b2b83b8bc9": {
          "model_module": "@jupyter-widgets/controls",
          "model_name": "DescriptionStyleModel",
          "model_module_version": "1.5.0",
          "state": {
            "_model_module": "@jupyter-widgets/controls",
            "_model_module_version": "1.5.0",
            "_model_name": "DescriptionStyleModel",
            "_view_count": null,
            "_view_module": "@jupyter-widgets/base",
            "_view_module_version": "1.2.0",
            "_view_name": "StyleView",
            "description_width": ""
          }
        },
        "5dd8c72d17614f5588277e274b80c5ba": {
          "model_module": "@jupyter-widgets/controls",
          "model_name": "ButtonModel",
          "model_module_version": "1.5.0",
          "state": {
            "_dom_classes": [],
            "_model_module": "@jupyter-widgets/controls",
            "_model_module_version": "1.5.0",
            "_model_name": "ButtonModel",
            "_view_count": null,
            "_view_module": "@jupyter-widgets/controls",
            "_view_module_version": "1.5.0",
            "_view_name": "ButtonView",
            "button_style": "",
            "description": "Check Risk",
            "disabled": false,
            "icon": "",
            "layout": "IPY_MODEL_ddc9c77c77434d44ac5b24b4443b4b6f",
            "style": "IPY_MODEL_f8fac04100d44279bb566ee45ae505ac",
            "tooltip": ""
          }
        },
        "ddc9c77c77434d44ac5b24b4443b4b6f": {
          "model_module": "@jupyter-widgets/base",
          "model_name": "LayoutModel",
          "model_module_version": "1.2.0",
          "state": {
            "_model_module": "@jupyter-widgets/base",
            "_model_module_version": "1.2.0",
            "_model_name": "LayoutModel",
            "_view_count": null,
            "_view_module": "@jupyter-widgets/base",
            "_view_module_version": "1.2.0",
            "_view_name": "LayoutView",
            "align_content": null,
            "align_items": null,
            "align_self": null,
            "border": null,
            "bottom": null,
            "display": null,
            "flex": null,
            "flex_flow": null,
            "grid_area": null,
            "grid_auto_columns": null,
            "grid_auto_flow": null,
            "grid_auto_rows": null,
            "grid_column": null,
            "grid_gap": null,
            "grid_row": null,
            "grid_template_areas": null,
            "grid_template_columns": null,
            "grid_template_rows": null,
            "height": null,
            "justify_content": null,
            "justify_items": null,
            "left": null,
            "margin": null,
            "max_height": null,
            "max_width": null,
            "min_height": null,
            "min_width": null,
            "object_fit": null,
            "object_position": null,
            "order": null,
            "overflow": null,
            "overflow_x": null,
            "overflow_y": null,
            "padding": null,
            "right": null,
            "top": null,
            "visibility": null,
            "width": null
          }
        },
        "f8fac04100d44279bb566ee45ae505ac": {
          "model_module": "@jupyter-widgets/controls",
          "model_name": "ButtonStyleModel",
          "model_module_version": "1.5.0",
          "state": {
            "_model_module": "@jupyter-widgets/controls",
            "_model_module_version": "1.5.0",
            "_model_name": "ButtonStyleModel",
            "_view_count": null,
            "_view_module": "@jupyter-widgets/base",
            "_view_module_version": "1.2.0",
            "_view_name": "StyleView",
            "button_color": null,
            "font_weight": ""
          }
        },
        "6de9c5ea73ee45ccbd220220ea947cfc": {
          "model_module": "@jupyter-widgets/output",
          "model_name": "OutputModel",
          "model_module_version": "1.0.0",
          "state": {
            "_dom_classes": [],
            "_model_module": "@jupyter-widgets/output",
            "_model_module_version": "1.0.0",
            "_model_name": "OutputModel",
            "_view_count": null,
            "_view_module": "@jupyter-widgets/output",
            "_view_module_version": "1.0.0",
            "_view_name": "OutputView",
            "layout": "IPY_MODEL_15f8b7b7002243b7afbfa4f77c039f74",
            "msg_id": "",
            "outputs": [
              {
                "output_type": "stream",
                "name": "stdout",
                "text": [
                  "Risk Level: Medium Risk\n"
                ]
              }
            ]
          }
        },
        "15f8b7b7002243b7afbfa4f77c039f74": {
          "model_module": "@jupyter-widgets/base",
          "model_name": "LayoutModel",
          "model_module_version": "1.2.0",
          "state": {
            "_model_module": "@jupyter-widgets/base",
            "_model_module_version": "1.2.0",
            "_model_name": "LayoutModel",
            "_view_count": null,
            "_view_module": "@jupyter-widgets/base",
            "_view_module_version": "1.2.0",
            "_view_name": "LayoutView",
            "align_content": null,
            "align_items": null,
            "align_self": null,
            "border": null,
            "bottom": null,
            "display": null,
            "flex": null,
            "flex_flow": null,
            "grid_area": null,
            "grid_auto_columns": null,
            "grid_auto_flow": null,
            "grid_auto_rows": null,
            "grid_column": null,
            "grid_gap": null,
            "grid_row": null,
            "grid_template_areas": null,
            "grid_template_columns": null,
            "grid_template_rows": null,
            "height": null,
            "justify_content": null,
            "justify_items": null,
            "left": null,
            "margin": null,
            "max_height": null,
            "max_width": null,
            "min_height": null,
            "min_width": null,
            "object_fit": null,
            "object_position": null,
            "order": null,
            "overflow": null,
            "overflow_x": null,
            "overflow_y": null,
            "padding": null,
            "right": null,
            "top": null,
            "visibility": null,
            "width": null
          }
        },
        "a862760bafae4745966da3ccefbaf387": {
          "model_module": "@jupyter-widgets/controls",
          "model_name": "IntTextModel",
          "model_module_version": "1.5.0",
          "state": {
            "_dom_classes": [],
            "_model_module": "@jupyter-widgets/controls",
            "_model_module_version": "1.5.0",
            "_model_name": "IntTextModel",
            "_view_count": null,
            "_view_module": "@jupyter-widgets/controls",
            "_view_module_version": "1.5.0",
            "_view_name": "IntTextView",
            "continuous_update": false,
            "description": "Loan Balance:",
            "description_tooltip": null,
            "disabled": false,
            "layout": "IPY_MODEL_3291dbbae1234516875dbd43afdc1932",
            "step": 1,
            "style": "IPY_MODEL_57a78244f34e4b39937c035b2507f793",
            "value": 500000
          }
        },
        "3291dbbae1234516875dbd43afdc1932": {
          "model_module": "@jupyter-widgets/base",
          "model_name": "LayoutModel",
          "model_module_version": "1.2.0",
          "state": {
            "_model_module": "@jupyter-widgets/base",
            "_model_module_version": "1.2.0",
            "_model_name": "LayoutModel",
            "_view_count": null,
            "_view_module": "@jupyter-widgets/base",
            "_view_module_version": "1.2.0",
            "_view_name": "LayoutView",
            "align_content": null,
            "align_items": null,
            "align_self": null,
            "border": null,
            "bottom": null,
            "display": null,
            "flex": null,
            "flex_flow": null,
            "grid_area": null,
            "grid_auto_columns": null,
            "grid_auto_flow": null,
            "grid_auto_rows": null,
            "grid_column": null,
            "grid_gap": null,
            "grid_row": null,
            "grid_template_areas": null,
            "grid_template_columns": null,
            "grid_template_rows": null,
            "height": null,
            "justify_content": null,
            "justify_items": null,
            "left": null,
            "margin": null,
            "max_height": null,
            "max_width": null,
            "min_height": null,
            "min_width": null,
            "object_fit": null,
            "object_position": null,
            "order": null,
            "overflow": null,
            "overflow_x": null,
            "overflow_y": null,
            "padding": null,
            "right": null,
            "top": null,
            "visibility": null,
            "width": null
          }
        },
        "57a78244f34e4b39937c035b2507f793": {
          "model_module": "@jupyter-widgets/controls",
          "model_name": "DescriptionStyleModel",
          "model_module_version": "1.5.0",
          "state": {
            "_model_module": "@jupyter-widgets/controls",
            "_model_module_version": "1.5.0",
            "_model_name": "DescriptionStyleModel",
            "_view_count": null,
            "_view_module": "@jupyter-widgets/base",
            "_view_module_version": "1.2.0",
            "_view_name": "StyleView",
            "description_width": ""
          }
        },
        "9cd7ffab8c274a27b117bef8e7e26a61": {
          "model_module": "@jupyter-widgets/controls",
          "model_name": "IntTextModel",
          "model_module_version": "1.5.0",
          "state": {
            "_dom_classes": [],
            "_model_module": "@jupyter-widgets/controls",
            "_model_module_version": "1.5.0",
            "_model_name": "IntTextModel",
            "_view_count": null,
            "_view_module": "@jupyter-widgets/controls",
            "_view_module_version": "1.5.0",
            "_view_name": "IntTextView",
            "continuous_update": false,
            "description": "Monthly Payment:",
            "description_tooltip": null,
            "disabled": false,
            "layout": "IPY_MODEL_41255eb7ffab47e8aef0ff2a0f271a47",
            "step": 1,
            "style": "IPY_MODEL_e884f6e1fd224d6fbc6989a071aa8751",
            "value": 25000
          }
        },
        "41255eb7ffab47e8aef0ff2a0f271a47": {
          "model_module": "@jupyter-widgets/base",
          "model_name": "LayoutModel",
          "model_module_version": "1.2.0",
          "state": {
            "_model_module": "@jupyter-widgets/base",
            "_model_module_version": "1.2.0",
            "_model_name": "LayoutModel",
            "_view_count": null,
            "_view_module": "@jupyter-widgets/base",
            "_view_module_version": "1.2.0",
            "_view_name": "LayoutView",
            "align_content": null,
            "align_items": null,
            "align_self": null,
            "border": null,
            "bottom": null,
            "display": null,
            "flex": null,
            "flex_flow": null,
            "grid_area": null,
            "grid_auto_columns": null,
            "grid_auto_flow": null,
            "grid_auto_rows": null,
            "grid_column": null,
            "grid_gap": null,
            "grid_row": null,
            "grid_template_areas": null,
            "grid_template_columns": null,
            "grid_template_rows": null,
            "height": null,
            "justify_content": null,
            "justify_items": null,
            "left": null,
            "margin": null,
            "max_height": null,
            "max_width": null,
            "min_height": null,
            "min_width": null,
            "object_fit": null,
            "object_position": null,
            "order": null,
            "overflow": null,
            "overflow_x": null,
            "overflow_y": null,
            "padding": null,
            "right": null,
            "top": null,
            "visibility": null,
            "width": null
          }
        },
        "e884f6e1fd224d6fbc6989a071aa8751": {
          "model_module": "@jupyter-widgets/controls",
          "model_name": "DescriptionStyleModel",
          "model_module_version": "1.5.0",
          "state": {
            "_model_module": "@jupyter-widgets/controls",
            "_model_module_version": "1.5.0",
            "_model_name": "DescriptionStyleModel",
            "_view_count": null,
            "_view_module": "@jupyter-widgets/base",
            "_view_module_version": "1.2.0",
            "_view_name": "StyleView",
            "description_width": ""
          }
        },
        "111ac8e654784c73bd81ff274035cd5f": {
          "model_module": "@jupyter-widgets/controls",
          "model_name": "ButtonModel",
          "model_module_version": "1.5.0",
          "state": {
            "_dom_classes": [],
            "_model_module": "@jupyter-widgets/controls",
            "_model_module_version": "1.5.0",
            "_model_name": "ButtonModel",
            "_view_count": null,
            "_view_module": "@jupyter-widgets/controls",
            "_view_module_version": "1.5.0",
            "_view_name": "ButtonView",
            "button_style": "",
            "description": "Check Repayment",
            "disabled": false,
            "icon": "",
            "layout": "IPY_MODEL_6ad8c482ebc245ed8cf86bdd064b2339",
            "style": "IPY_MODEL_4d47781e81314f499d073fc3c13f3878",
            "tooltip": ""
          }
        },
        "6ad8c482ebc245ed8cf86bdd064b2339": {
          "model_module": "@jupyter-widgets/base",
          "model_name": "LayoutModel",
          "model_module_version": "1.2.0",
          "state": {
            "_model_module": "@jupyter-widgets/base",
            "_model_module_version": "1.2.0",
            "_model_name": "LayoutModel",
            "_view_count": null,
            "_view_module": "@jupyter-widgets/base",
            "_view_module_version": "1.2.0",
            "_view_name": "LayoutView",
            "align_content": null,
            "align_items": null,
            "align_self": null,
            "border": null,
            "bottom": null,
            "display": null,
            "flex": null,
            "flex_flow": null,
            "grid_area": null,
            "grid_auto_columns": null,
            "grid_auto_flow": null,
            "grid_auto_rows": null,
            "grid_column": null,
            "grid_gap": null,
            "grid_row": null,
            "grid_template_areas": null,
            "grid_template_columns": null,
            "grid_template_rows": null,
            "height": null,
            "justify_content": null,
            "justify_items": null,
            "left": null,
            "margin": null,
            "max_height": null,
            "max_width": null,
            "min_height": null,
            "min_width": null,
            "object_fit": null,
            "object_position": null,
            "order": null,
            "overflow": null,
            "overflow_x": null,
            "overflow_y": null,
            "padding": null,
            "right": null,
            "top": null,
            "visibility": null,
            "width": null
          }
        },
        "4d47781e81314f499d073fc3c13f3878": {
          "model_module": "@jupyter-widgets/controls",
          "model_name": "ButtonStyleModel",
          "model_module_version": "1.5.0",
          "state": {
            "_model_module": "@jupyter-widgets/controls",
            "_model_module_version": "1.5.0",
            "_model_name": "ButtonStyleModel",
            "_view_count": null,
            "_view_module": "@jupyter-widgets/base",
            "_view_module_version": "1.2.0",
            "_view_name": "StyleView",
            "button_color": null,
            "font_weight": ""
          }
        },
        "65ade1e034244f5ba7cf2b518f0d0eb6": {
          "model_module": "@jupyter-widgets/output",
          "model_name": "OutputModel",
          "model_module_version": "1.0.0",
          "state": {
            "_dom_classes": [],
            "_model_module": "@jupyter-widgets/output",
            "_model_module_version": "1.0.0",
            "_model_name": "OutputModel",
            "_view_count": null,
            "_view_module": "@jupyter-widgets/output",
            "_view_module_version": "1.0.0",
            "_view_name": "OutputView",
            "layout": "IPY_MODEL_d51c02b7ef4b4fac84c7f57ffb352b59",
            "msg_id": "",
            "outputs": [
              {
                "output_type": "stream",
                "name": "stdout",
                "text": [
                  "Remaining Balance: PKR 475000\n",
                  "Remaining Balance: PKR 450000\n",
                  "Remaining Balance: PKR 425000\n",
                  "Remaining Balance: PKR 400000\n",
                  "Remaining Balance: PKR 375000\n",
                  "Remaining Balance: PKR 350000\n",
                  "Remaining Balance: PKR 325000\n",
                  "Remaining Balance: PKR 300000\n",
                  "Remaining Balance: PKR 275000\n",
                  "Remaining Balance: PKR 250000\n",
                  "Remaining Balance: PKR 225000\n",
                  "Remaining Balance: PKR 200000\n",
                  "Remaining Balance: PKR 175000\n",
                  "Remaining Balance: PKR 150000\n",
                  "Remaining Balance: PKR 125000\n",
                  "Remaining Balance: PKR 100000\n",
                  "Remaining Balance: PKR 75000\n",
                  "Remaining Balance: PKR 50000\n",
                  "Remaining Balance: PKR 25000\n",
                  "Remaining Balance: PKR 0\n"
                ]
              }
            ]
          }
        },
        "d51c02b7ef4b4fac84c7f57ffb352b59": {
          "model_module": "@jupyter-widgets/base",
          "model_name": "LayoutModel",
          "model_module_version": "1.2.0",
          "state": {
            "_model_module": "@jupyter-widgets/base",
            "_model_module_version": "1.2.0",
            "_model_name": "LayoutModel",
            "_view_count": null,
            "_view_module": "@jupyter-widgets/base",
            "_view_module_version": "1.2.0",
            "_view_name": "LayoutView",
            "align_content": null,
            "align_items": null,
            "align_self": null,
            "border": null,
            "bottom": null,
            "display": null,
            "flex": null,
            "flex_flow": null,
            "grid_area": null,
            "grid_auto_columns": null,
            "grid_auto_flow": null,
            "grid_auto_rows": null,
            "grid_column": null,
            "grid_gap": null,
            "grid_row": null,
            "grid_template_areas": null,
            "grid_template_columns": null,
            "grid_template_rows": null,
            "height": null,
            "justify_content": null,
            "justify_items": null,
            "left": null,
            "margin": null,
            "max_height": null,
            "max_width": null,
            "min_height": null,
            "min_width": null,
            "object_fit": null,
            "object_position": null,
            "order": null,
            "overflow": null,
            "overflow_x": null,
            "overflow_y": null,
            "padding": null,
            "right": null,
            "top": null,
            "visibility": null,
            "width": null
          }
        },
        "aab5220973104dd79bdb2e4fd3674ab4": {
          "model_module": "@jupyter-widgets/controls",
          "model_name": "TextModel",
          "model_module_version": "1.5.0",
          "state": {
            "_dom_classes": [],
            "_model_module": "@jupyter-widgets/controls",
            "_model_module_version": "1.5.0",
            "_model_name": "TextModel",
            "_view_count": null,
            "_view_module": "@jupyter-widgets/controls",
            "_view_module_version": "1.5.0",
            "_view_name": "TextView",
            "continuous_update": true,
            "description": "Stock Prices:",
            "description_tooltip": null,
            "disabled": false,
            "layout": "IPY_MODEL_2936ff179d904703aa235290e534f30b",
            "placeholder": "Comma-separated values",
            "style": "IPY_MODEL_34da445aaabd4f798e34a1c3b732acf1",
            "value": "200"
          }
        },
        "2936ff179d904703aa235290e534f30b": {
          "model_module": "@jupyter-widgets/base",
          "model_name": "LayoutModel",
          "model_module_version": "1.2.0",
          "state": {
            "_model_module": "@jupyter-widgets/base",
            "_model_module_version": "1.2.0",
            "_model_name": "LayoutModel",
            "_view_count": null,
            "_view_module": "@jupyter-widgets/base",
            "_view_module_version": "1.2.0",
            "_view_name": "LayoutView",
            "align_content": null,
            "align_items": null,
            "align_self": null,
            "border": null,
            "bottom": null,
            "display": null,
            "flex": null,
            "flex_flow": null,
            "grid_area": null,
            "grid_auto_columns": null,
            "grid_auto_flow": null,
            "grid_auto_rows": null,
            "grid_column": null,
            "grid_gap": null,
            "grid_row": null,
            "grid_template_areas": null,
            "grid_template_columns": null,
            "grid_template_rows": null,
            "height": null,
            "justify_content": null,
            "justify_items": null,
            "left": null,
            "margin": null,
            "max_height": null,
            "max_width": null,
            "min_height": null,
            "min_width": null,
            "object_fit": null,
            "object_position": null,
            "order": null,
            "overflow": null,
            "overflow_x": null,
            "overflow_y": null,
            "padding": null,
            "right": null,
            "top": null,
            "visibility": null,
            "width": null
          }
        },
        "34da445aaabd4f798e34a1c3b732acf1": {
          "model_module": "@jupyter-widgets/controls",
          "model_name": "DescriptionStyleModel",
          "model_module_version": "1.5.0",
          "state": {
            "_model_module": "@jupyter-widgets/controls",
            "_model_module_version": "1.5.0",
            "_model_name": "DescriptionStyleModel",
            "_view_count": null,
            "_view_module": "@jupyter-widgets/base",
            "_view_module_version": "1.2.0",
            "_view_name": "StyleView",
            "description_width": ""
          }
        },
        "e571efdc2b0343338e8b7766c5f29853": {
          "model_module": "@jupyter-widgets/output",
          "model_name": "OutputModel",
          "model_module_version": "1.0.0",
          "state": {
            "_dom_classes": [],
            "_model_module": "@jupyter-widgets/output",
            "_model_module_version": "1.0.0",
            "_model_name": "OutputModel",
            "_view_count": null,
            "_view_module": "@jupyter-widgets/output",
            "_view_module_version": "1.0.0",
            "_view_name": "OutputView",
            "layout": "IPY_MODEL_98ac85a7112948c9a0ec39a7840d51d4",
            "msg_id": "",
            "outputs": [
              {
                "output_type": "stream",
                "name": "stdout",
                "text": [
                  "Stock Price: PKR 200.0\n",
                  "Target reached. Selling stock.\n"
                ]
              }
            ]
          }
        },
        "98ac85a7112948c9a0ec39a7840d51d4": {
          "model_module": "@jupyter-widgets/base",
          "model_name": "LayoutModel",
          "model_module_version": "1.2.0",
          "state": {
            "_model_module": "@jupyter-widgets/base",
            "_model_module_version": "1.2.0",
            "_model_name": "LayoutModel",
            "_view_count": null,
            "_view_module": "@jupyter-widgets/base",
            "_view_module_version": "1.2.0",
            "_view_name": "LayoutView",
            "align_content": null,
            "align_items": null,
            "align_self": null,
            "border": null,
            "bottom": null,
            "display": null,
            "flex": null,
            "flex_flow": null,
            "grid_area": null,
            "grid_auto_columns": null,
            "grid_auto_flow": null,
            "grid_auto_rows": null,
            "grid_column": null,
            "grid_gap": null,
            "grid_row": null,
            "grid_template_areas": null,
            "grid_template_columns": null,
            "grid_template_rows": null,
            "height": null,
            "justify_content": null,
            "justify_items": null,
            "left": null,
            "margin": null,
            "max_height": null,
            "max_width": null,
            "min_height": null,
            "min_width": null,
            "object_fit": null,
            "object_position": null,
            "order": null,
            "overflow": null,
            "overflow_x": null,
            "overflow_y": null,
            "padding": null,
            "right": null,
            "top": null,
            "visibility": null,
            "width": null
          }
        },
        "3f8ceb29f1484e809237b037fd49d5f0": {
          "model_module": "@jupyter-widgets/controls",
          "model_name": "ButtonModel",
          "model_module_version": "1.5.0",
          "state": {
            "_dom_classes": [],
            "_model_module": "@jupyter-widgets/controls",
            "_model_module_version": "1.5.0",
            "_model_name": "ButtonModel",
            "_view_count": null,
            "_view_module": "@jupyter-widgets/controls",
            "_view_module_version": "1.5.0",
            "_view_name": "ButtonView",
            "button_style": "",
            "description": "Track Exchange",
            "disabled": false,
            "icon": "",
            "layout": "IPY_MODEL_3cba6110794740c5b2f65ccdfa9214b3",
            "style": "IPY_MODEL_4f715567355548ca9dec0a73cf4174be",
            "tooltip": ""
          }
        },
        "3cba6110794740c5b2f65ccdfa9214b3": {
          "model_module": "@jupyter-widgets/base",
          "model_name": "LayoutModel",
          "model_module_version": "1.2.0",
          "state": {
            "_model_module": "@jupyter-widgets/base",
            "_model_module_version": "1.2.0",
            "_model_name": "LayoutModel",
            "_view_count": null,
            "_view_module": "@jupyter-widgets/base",
            "_view_module_version": "1.2.0",
            "_view_name": "LayoutView",
            "align_content": null,
            "align_items": null,
            "align_self": null,
            "border": null,
            "bottom": null,
            "display": null,
            "flex": null,
            "flex_flow": null,
            "grid_area": null,
            "grid_auto_columns": null,
            "grid_auto_flow": null,
            "grid_auto_rows": null,
            "grid_column": null,
            "grid_gap": null,
            "grid_row": null,
            "grid_template_areas": null,
            "grid_template_columns": null,
            "grid_template_rows": null,
            "height": null,
            "justify_content": null,
            "justify_items": null,
            "left": null,
            "margin": null,
            "max_height": null,
            "max_width": null,
            "min_height": null,
            "min_width": null,
            "object_fit": null,
            "object_position": null,
            "order": null,
            "overflow": null,
            "overflow_x": null,
            "overflow_y": null,
            "padding": null,
            "right": null,
            "top": null,
            "visibility": null,
            "width": null
          }
        },
        "4f715567355548ca9dec0a73cf4174be": {
          "model_module": "@jupyter-widgets/controls",
          "model_name": "ButtonStyleModel",
          "model_module_version": "1.5.0",
          "state": {
            "_model_module": "@jupyter-widgets/controls",
            "_model_module_version": "1.5.0",
            "_model_name": "ButtonStyleModel",
            "_view_count": null,
            "_view_module": "@jupyter-widgets/base",
            "_view_module_version": "1.2.0",
            "_view_name": "StyleView",
            "button_color": null,
            "font_weight": ""
          }
        },
        "11faa0c6d1a74d32a8a304e1d3ee88e3": {
          "model_module": "@jupyter-widgets/output",
          "model_name": "OutputModel",
          "model_module_version": "1.0.0",
          "state": {
            "_dom_classes": [],
            "_model_module": "@jupyter-widgets/output",
            "_model_module_version": "1.0.0",
            "_model_name": "OutputModel",
            "_view_count": null,
            "_view_module": "@jupyter-widgets/output",
            "_view_module_version": "1.0.0",
            "_view_name": "OutputView",
            "layout": "IPY_MODEL_41f047c142084e20878e776d870467de",
            "msg_id": "",
            "outputs": []
          }
        },
        "41f047c142084e20878e776d870467de": {
          "model_module": "@jupyter-widgets/base",
          "model_name": "LayoutModel",
          "model_module_version": "1.2.0",
          "state": {
            "_model_module": "@jupyter-widgets/base",
            "_model_module_version": "1.2.0",
            "_model_name": "LayoutModel",
            "_view_count": null,
            "_view_module": "@jupyter-widgets/base",
            "_view_module_version": "1.2.0",
            "_view_name": "LayoutView",
            "align_content": null,
            "align_items": null,
            "align_self": null,
            "border": null,
            "bottom": null,
            "display": null,
            "flex": null,
            "flex_flow": null,
            "grid_area": null,
            "grid_auto_columns": null,
            "grid_auto_flow": null,
            "grid_auto_rows": null,
            "grid_column": null,
            "grid_gap": null,
            "grid_row": null,
            "grid_template_areas": null,
            "grid_template_columns": null,
            "grid_template_rows": null,
            "height": null,
            "justify_content": null,
            "justify_items": null,
            "left": null,
            "margin": null,
            "max_height": null,
            "max_width": null,
            "min_height": null,
            "min_width": null,
            "object_fit": null,
            "object_position": null,
            "order": null,
            "overflow": null,
            "overflow_x": null,
            "overflow_y": null,
            "padding": null,
            "right": null,
            "top": null,
            "visibility": null,
            "width": null
          }
        }
      }
    }
  },
  "cells": [
    {
      "cell_type": "markdown",
      "source": [
        "# **AF3005 – Programming for Finance**  \n",
        "\n",
        "---\n",
        "\n",
        "## **📘 Assignment 1: Smart Financial Management System**  \n",
        "\n",
        "📍 **FAST National University of Computer and Emerging Sciences (FAST-NUCES), Islamabad**  \n",
        "👨‍🏫 **Instructor:** Dr. Usama Arshad (Assistant Professor, FSM)  \n",
        "🎓 **Program:** BS Financial Technology (BSFT)  \n",
        "📅 **Semester:** Spring 2025  \n",
        "📌 **Sections:** BSFT06A, BSFT06B, BSFT06C  \n",
        "\n",
        "---\n",
        "\n",
        "## **🎯 Course Learning Outcomes (CLOs)**  \n",
        "- **CLO1:** Write Python programs to solve basic financial problems.  \n",
        "- **CLO2:** Perform data manipulation and analysis using Python libraries.  \n",
        "\n",
        "---\n",
        "\n",
        "\n",
        "\n",
        "\n",
        "\n",
        "\n",
        "\n",
        "\n",
        "\n",
        "\n",
        "\n"
      ],
      "metadata": {
        "id": "5SRLdaqmHtmP"
      }
    },
    {
      "cell_type": "markdown",
      "source": [
        "\n",
        "# **🟢 Deadline: 15th February 2025**\n",
        "\n",
        "---\n",
        "\n"
      ],
      "metadata": {
        "id": "wXgvxhSVQXNz"
      }
    },
    {
      "cell_type": "markdown",
      "source": [
        "## **📥 Submission Guidelines**\n",
        "- **File Format:** Submit your assignment as a Jupyter Notebook file (`.ipynb`).\n",
        "- **Naming Convention:** Use the format `[Your_regno]_AF3005_Assignment1.ipynb`.\n",
        "- **Submission Platform:** Upload your file to **Google Classroom** under the assigned submission.\n",
        "- **GitHub Repository:**\n",
        "  - Create a GitHub repository named `AF3005_ProgrammingForFinance`.\n",
        "  - Upload your `.ipynb` file.\n",
        "  - Ensure the repository is structured properly with a `README.md` explaining the implementation.\n",
        "  - The implementation must include `ipywidgets` for interactive elements.\n",
        "  - Share the GitHub repository link in Google Classroom submission with file.\n",
        "\n",
        "---\n",
        "\n",
        "---\n",
        "\n"
      ],
      "metadata": {
        "id": "mHDXP18hMn3A"
      }
    },
    {
      "cell_type": "markdown",
      "source": [
        "# **🟢 Scenario: Smart Financial Management System [20 marks]**  \n",
        "\n",
        "\n",
        "---\n",
        "\n",
        "\n",
        "SecureBank wants to develop an **automated financial management system** using Python. Your task is to implement different financial operations step by step.\n",
        "\n",
        "This system will:  \n",
        "✅ **Assess customer eligibility for loans.**  \n",
        "✅ **Classify investment portfolios based on risk.**  \n",
        "✅ **Automate loan repayment tracking.**  \n",
        "✅ **Monitor stock market trends and trigger alerts.**  \n",
        "✅ **Track currency exchange rates and suggest conversions.**  \n",
        "\n",
        "Your task is to **break down the requirements, write a structured plan, and implement the logic step by step** using **ipywidgets** for interactive user inputs.\n",
        "\n",
        "---\n",
        "\n"
      ],
      "metadata": {
        "id": "XEanO5EiLdC9"
      }
    },
    {
      "cell_type": "markdown",
      "source": [
        "## **🟢 Part 1: Loan Eligibility & Interest Rate Calculation [4 marks]**  \n",
        "\n",
        "📌 **Requirement:**  \n",
        "SecureBank only approves loans if the **customer meets all eligibility criteria**. The system should:  \n",
        "✔ **Check if the customer is employed.**  \n",
        "✔ **Verify if the income is at least PKR 50,000.**  \n",
        "✔ **Check credit score:**  \n",
        "   - **750+ → 5% Interest Rate**  \n",
        "   - **650 - 749 → 8% Interest Rate**  \n",
        "   - **Below 650 → Loan Rejected**  \n",
        "✔ **If the applicant is unemployed, the loan is rejected immediately.**  \n",
        "\n",
        "### **Implementation Steps:**  \n",
        "🔹 **Step 1:** Structure the `if-elif-else` statements for this logic.  \n",
        "🔹 **Step 2:** Implement a Python program using **ipywidgets** for interactive user input (income, credit score, employment status) to decide whether the loan is approved or rejected.\n",
        "\n",
        "---"
      ],
      "metadata": {
        "id": "sIKHzkmkLYYM"
      }
    },
    {
      "cell_type": "code",
      "source": [
        "import ipywidgets as widgets\n",
        "from IPython.display import display\n",
        "\n",
        "def check_loan_eligibility(income, credit_score, employment):\n",
        "    if employment == 'Unemployed':\n",
        "        return \"Loan Rejected: Applicant is unemployed.\"\n",
        "\n",
        "    if income < 50000:\n",
        "        return \"Loan Rejected: Income below PKR 50,000.\"\n",
        "\n",
        "    if credit_score >= 750:\n",
        "        return \"Loan Approved: Interest Rate = 5%\"\n",
        "    elif 650 <= credit_score < 750:\n",
        "        return \"Loan Approved: Interest Rate = 8%\"\n",
        "    else:\n",
        "        return \"Loan Rejected: Credit score too low.\"\n",
        "\n",
        "# Widgets for user input\n",
        "income_input = widgets.IntText(description='Income:')\n",
        "credit_score_input = widgets.IntText(description='Credit Score:')\n",
        "employment_input = widgets.Dropdown(options=['Employed', 'Unemployed'], description='Job:')\n",
        "\n",
        "output = widgets.Output()\n",
        "\n",
        "def on_submit(change):\n",
        "    with output:\n",
        "        output.clear_output()\n",
        "        result = check_loan_eligibility(income_input.value, credit_score_input.value, employment_input.value)\n",
        "        print(result)\n",
        "\n",
        "income_input.observe(on_submit, names='value')\n",
        "credit_score_input.observe(on_submit, names='value')\n",
        "employment_input.observe(on_submit, names='value')\n",
        "\n",
        "\n",
        "\n",
        "display(income_input, credit_score_input, employment_input, output)\n"
      ],
      "metadata": {
        "id": "JnoBYZkTKqRw",
        "colab": {
          "base_uri": "https://localhost:8080/",
          "height": 127,
          "referenced_widgets": [
            "9547cbb209e840018b41a331a43044c1",
            "745ab9e3ab1048ecaa938b4dfb4f0354",
            "73c971ee2623422a9e9cf9d5f3a69a5f",
            "ab4240645d52445da377671d5e8fcd7c",
            "856c8bd72a8e4b42ac7b542285e872d7",
            "d5e7011e36d04c4da95d09c2e5e99f37",
            "b0d4b82635c547b8b5ebd244e6bc66cc",
            "9a5f50d4e6234313bc92f538c12ccf6e",
            "a63cb2d1f9bc4c929a5789c5ff95a78b",
            "5aa380517ea04bc1be235633c701ccdd",
            "da679a846c0c45a68e603295fd0aa940"
          ]
        },
        "outputId": "9b2e79e4-824a-4490-8a6a-890eae7db22c"
      },
      "execution_count": 10,
      "outputs": [
        {
          "output_type": "display_data",
          "data": {
            "text/plain": [
              "IntText(value=0, description='Income:')"
            ],
            "application/vnd.jupyter.widget-view+json": {
              "version_major": 2,
              "version_minor": 0,
              "model_id": "9547cbb209e840018b41a331a43044c1"
            }
          },
          "metadata": {}
        },
        {
          "output_type": "display_data",
          "data": {
            "text/plain": [
              "IntText(value=0, description='Credit Score:')"
            ],
            "application/vnd.jupyter.widget-view+json": {
              "version_major": 2,
              "version_minor": 0,
              "model_id": "ab4240645d52445da377671d5e8fcd7c"
            }
          },
          "metadata": {}
        },
        {
          "output_type": "display_data",
          "data": {
            "text/plain": [
              "Dropdown(description='Job:', options=('Employed', 'Unemployed'), value='Employed')"
            ],
            "application/vnd.jupyter.widget-view+json": {
              "version_major": 2,
              "version_minor": 0,
              "model_id": "b0d4b82635c547b8b5ebd244e6bc66cc"
            }
          },
          "metadata": {}
        },
        {
          "output_type": "display_data",
          "data": {
            "text/plain": [
              "Output()"
            ],
            "application/vnd.jupyter.widget-view+json": {
              "version_major": 2,
              "version_minor": 0,
              "model_id": "5aa380517ea04bc1be235633c701ccdd"
            }
          },
          "metadata": {}
        }
      ]
    },
    {
      "cell_type": "markdown",
      "source": [
        "## **🟢 Part 2: Investment Risk Assessment [4 marks]**  \n",
        "\n",
        "📌 **Requirement:**  \n",
        "SecureBank offers **investment analysis services**. The system should evaluate a **portfolio of stocks** and classify the risk level based on stock returns:  \n",
        "✔ If **any stock has a negative return**, the portfolio is **High Risk**.  \n",
        "✔ If **all stocks have positive returns**, but at least one return is below 5%, classify as **Medium Risk**.  \n",
        "✔ If **all stock returns are 5% or above**, classify as **Low Risk**.  \n",
        "\n",
        "### **Implementation Steps:**  \n",
        "🔹 **Step 1:** Use loops to iterate through the list of stock returns.  \n",
        "🔹 **Step 2:** Implement `if-elif` conditions to classify the risk.  \n",
        "🔹 **Step 3:** Write a Python program using **ipywidgets** to allow users to **input stock returns interactively** and receive a risk assessment.\n",
        "\n",
        "---"
      ],
      "metadata": {
        "id": "s66ykZPwKmRL"
      }
    },
    {
      "cell_type": "code",
      "source": [
        "import ipywidgets as widgets\n",
        "from IPython.display import display\n",
        "\n",
        "def assess_risk(returns):\n",
        "    if any(r < 0 for r in returns):\n",
        "        return \"High Risk\"\n",
        "    elif all(r >= 5 for r in returns):\n",
        "        return \"Low Risk\"\n",
        "    else:\n",
        "        return \"Medium Risk\"\n",
        "\n",
        "# Widgets for user input\n",
        "returns_input = widgets.Text(description='Stock Returns:', placeholder='Comma-separated values')\n",
        "check_button = widgets.Button(description='Check Risk')\n",
        "output = widgets.Output()\n",
        "\n",
        "def on_submit(b):\n",
        "    with output:\n",
        "        output.clear_output()\n",
        "        try:\n",
        "            returns = list(map(float, returns_input.value.split(',')))\n",
        "            result = assess_risk(returns)\n",
        "            print(f\"Risk Level: {result}\")\n",
        "        except ValueError:\n",
        "            print(\"Invalid input. Enter numbers separated by commas.\")\n",
        "\n",
        "check_button.on_click(on_submit)\n",
        "\n",
        "display(returns_input, check_button, output)\n"
      ],
      "metadata": {
        "id": "I6Mi2LbOKtym",
        "colab": {
          "base_uri": "https://localhost:8080/",
          "height": 99,
          "referenced_widgets": [
            "6224aa43818a49d8b42ef50c9538bb33",
            "53ce38beb03f45e691129df2749bc1c7",
            "275673313e99499ab27627b2b83b8bc9",
            "5dd8c72d17614f5588277e274b80c5ba",
            "ddc9c77c77434d44ac5b24b4443b4b6f",
            "f8fac04100d44279bb566ee45ae505ac",
            "6de9c5ea73ee45ccbd220220ea947cfc",
            "15f8b7b7002243b7afbfa4f77c039f74"
          ]
        },
        "outputId": "261c62e3-d412-43de-8323-e60fb0ffe9e5"
      },
      "execution_count": 17,
      "outputs": [
        {
          "output_type": "display_data",
          "data": {
            "text/plain": [
              "Text(value='', description='Stock Returns:', placeholder='Comma-separated values')"
            ],
            "application/vnd.jupyter.widget-view+json": {
              "version_major": 2,
              "version_minor": 0,
              "model_id": "6224aa43818a49d8b42ef50c9538bb33"
            }
          },
          "metadata": {}
        },
        {
          "output_type": "display_data",
          "data": {
            "text/plain": [
              "Button(description='Check Risk', style=ButtonStyle())"
            ],
            "application/vnd.jupyter.widget-view+json": {
              "version_major": 2,
              "version_minor": 0,
              "model_id": "5dd8c72d17614f5588277e274b80c5ba"
            }
          },
          "metadata": {}
        },
        {
          "output_type": "display_data",
          "data": {
            "text/plain": [
              "Output()"
            ],
            "application/vnd.jupyter.widget-view+json": {
              "version_major": 2,
              "version_minor": 0,
              "model_id": "6de9c5ea73ee45ccbd220220ea947cfc"
            }
          },
          "metadata": {}
        }
      ]
    },
    {
      "cell_type": "markdown",
      "source": [
        "## **🟢 Part 3: Loan Repayment Tracker [4 marks]**  \n",
        "\n",
        "📌 **Requirement:**  \n",
        "Customers who receive a loan should be able to track their **loan balance** as they make monthly payments. The system should:  \n",
        "✔ Start with an **initial loan balance** (e.g., PKR 500,000).  \n",
        "✔ Deduct a **fixed monthly payment** (e.g., PKR 25,000).  \n",
        "✔ Continue tracking until **loan balance reaches zero**.  \n",
        "✔ Display the remaining balance **after each payment**.  \n",
        "\n",
        "### **Implementation Steps:**  \n",
        "🔹 **Step 1:** Choose an appropriate loop (`for` or `while`).  \n",
        "🔹 **Step 2:** Ensure the loop **stops once the loan is fully paid**.  \n",
        "🔹 **Step 3:** Implement a Python program using **ipywidgets** to **simulate loan repayment interactively**.\n",
        "\n",
        "---"
      ],
      "metadata": {
        "id": "xTrlsvaZKhaQ"
      }
    },
    {
      "cell_type": "code",
      "source": [
        "import ipywidgets as widgets\n",
        "from IPython.display import display\n",
        "\n",
        "def track_loan_repayment(balance, payment):\n",
        "    while balance > 0:\n",
        "        balance -= payment\n",
        "        balance = max(balance, 0)\n",
        "        print(f\"Remaining Balance: PKR {balance}\")\n",
        "\n",
        "# Widgets for user input\n",
        "loan_balance_input = widgets.IntText(description='Loan Balance:', value=500000)\n",
        "monthly_payment_input = widgets.IntText(description='Monthly Payment:', value=25000)\n",
        "check_button = widgets.Button(description='Check Repayment')\n",
        "output = widgets.Output()\n",
        "\n",
        "def on_submit(b):\n",
        "    with output:\n",
        "        output.clear_output()\n",
        "        balance = loan_balance_input.value\n",
        "        payment = monthly_payment_input.value\n",
        "        track_loan_repayment(balance, payment)\n",
        "\n",
        "check_button.on_click(on_submit)\n",
        "\n",
        "display(loan_balance_input, monthly_payment_input, check_button, output)\n",
        "\n"
      ],
      "metadata": {
        "id": "h3V9vFDjKvGH",
        "colab": {
          "base_uri": "https://localhost:8080/",
          "height": 459,
          "referenced_widgets": [
            "a862760bafae4745966da3ccefbaf387",
            "3291dbbae1234516875dbd43afdc1932",
            "57a78244f34e4b39937c035b2507f793",
            "9cd7ffab8c274a27b117bef8e7e26a61",
            "41255eb7ffab47e8aef0ff2a0f271a47",
            "e884f6e1fd224d6fbc6989a071aa8751",
            "111ac8e654784c73bd81ff274035cd5f",
            "6ad8c482ebc245ed8cf86bdd064b2339",
            "4d47781e81314f499d073fc3c13f3878",
            "65ade1e034244f5ba7cf2b518f0d0eb6",
            "d51c02b7ef4b4fac84c7f57ffb352b59"
          ]
        },
        "outputId": "8a3bf8ec-c359-414d-d7f7-99cd16b5fce3"
      },
      "execution_count": 18,
      "outputs": [
        {
          "output_type": "display_data",
          "data": {
            "text/plain": [
              "IntText(value=500000, description='Loan Balance:')"
            ],
            "application/vnd.jupyter.widget-view+json": {
              "version_major": 2,
              "version_minor": 0,
              "model_id": "a862760bafae4745966da3ccefbaf387"
            }
          },
          "metadata": {}
        },
        {
          "output_type": "display_data",
          "data": {
            "text/plain": [
              "IntText(value=25000, description='Monthly Payment:')"
            ],
            "application/vnd.jupyter.widget-view+json": {
              "version_major": 2,
              "version_minor": 0,
              "model_id": "9cd7ffab8c274a27b117bef8e7e26a61"
            }
          },
          "metadata": {}
        },
        {
          "output_type": "display_data",
          "data": {
            "text/plain": [
              "Button(description='Check Repayment', style=ButtonStyle())"
            ],
            "application/vnd.jupyter.widget-view+json": {
              "version_major": 2,
              "version_minor": 0,
              "model_id": "111ac8e654784c73bd81ff274035cd5f"
            }
          },
          "metadata": {}
        },
        {
          "output_type": "display_data",
          "data": {
            "text/plain": [
              "Output()"
            ],
            "application/vnd.jupyter.widget-view+json": {
              "version_major": 2,
              "version_minor": 0,
              "model_id": "65ade1e034244f5ba7cf2b518f0d0eb6"
            }
          },
          "metadata": {}
        }
      ]
    },
    {
      "cell_type": "markdown",
      "source": [
        "\n",
        "## **🟢 Part 4: Stock Price Monitoring and Trading Strategy [4 marks]**  \n",
        "\n",
        "📌 **Requirement:**  \n",
        "A stock trader wants to **track stock prices daily** and **sell when the price reaches PKR 200**. The system should:  \n",
        "✔ Iterate through a **list of stock prices**.  \n",
        "✔ **Skip missing stock data** (`None` values).  \n",
        "✔ Stop tracking **once the price reaches PKR 200**.  \n",
        "\n",
        "### **Implementation Steps:**  \n",
        "🔹 **Step 1:** Handle missing stock data using `continue`.  \n",
        "🔹 **Step 2:** Stop tracking once the stock hits the target price (`break`).  \n",
        "🔹 **Step 3:** Write a Python program using **ipywidgets** to **process stock prices interactively** and trigger alerts when conditions are met.\n",
        "\n",
        "---"
      ],
      "metadata": {
        "id": "3V72WRTcKc17"
      }
    },
    {
      "cell_type": "code",
      "source": [
        "import ipywidgets as widgets\n",
        "from IPython.display import display\n",
        "\n",
        "def track_stock_prices(prices):\n",
        "    for price in prices:\n",
        "        if price is None:\n",
        "            continue\n",
        "        print(f\"Stock Price: PKR {price}\")\n",
        "        if price >= 200:\n",
        "            print(\"Target reached. Selling stock.\")\n",
        "            break\n",
        "\n",
        "# Widget for user input\n",
        "stock_prices_input = widgets.Text(description='Stock Prices:', placeholder='Comma-separated values')\n",
        "output = widgets.Output()\n",
        "\n",
        "def on_submit(change):\n",
        "    with output:\n",
        "        output.clear_output()\n",
        "        try:\n",
        "            prices = [float(p) if p.strip().lower() != 'none' else None for p in stock_prices_input.value.split(',')]\n",
        "            track_stock_prices(prices)\n",
        "        except ValueError:\n",
        "            print(\"Invalid input. Enter numbers separated by commas.\")\n",
        "\n",
        "stock_prices_input.observe(on_submit, names='value')\n",
        "\n",
        "display(stock_prices_input, output)\n"
      ],
      "metadata": {
        "id": "G4v6qt6GKwFN",
        "colab": {
          "base_uri": "https://localhost:8080/",
          "height": 84,
          "referenced_widgets": [
            "aab5220973104dd79bdb2e4fd3674ab4",
            "2936ff179d904703aa235290e534f30b",
            "34da445aaabd4f798e34a1c3b732acf1",
            "e571efdc2b0343338e8b7766c5f29853",
            "98ac85a7112948c9a0ec39a7840d51d4"
          ]
        },
        "outputId": "47fc5aa0-2857-4a75-b9a5-2c8ee8766670"
      },
      "execution_count": 19,
      "outputs": [
        {
          "output_type": "display_data",
          "data": {
            "text/plain": [
              "Text(value='', description='Stock Prices:', placeholder='Comma-separated values')"
            ],
            "application/vnd.jupyter.widget-view+json": {
              "version_major": 2,
              "version_minor": 0,
              "model_id": "aab5220973104dd79bdb2e4fd3674ab4"
            }
          },
          "metadata": {}
        },
        {
          "output_type": "display_data",
          "data": {
            "text/plain": [
              "Output()"
            ],
            "application/vnd.jupyter.widget-view+json": {
              "version_major": 2,
              "version_minor": 0,
              "model_id": "e571efdc2b0343338e8b7766c5f29853"
            }
          },
          "metadata": {}
        }
      ]
    },
    {
      "cell_type": "markdown",
      "source": [
        "\n",
        "## **🟢 Part 5: Currency Exchange Rate Tracker [4 marks]**  \n",
        "\n",
        "📌 **Requirement:**  \n",
        "SecureBank provides **real-time currency exchange tracking**. The system should:  \n",
        "✔ Start at **PKR 290/USD**.  \n",
        "✔ Increase by **1 PKR per day** until it reaches **PKR 300/USD**.  \n",
        "✔ Print exchange rates daily and stop when the **target rate is reached**.  \n",
        "\n",
        "### **Implementation Steps:**  \n",
        "🔹 **Step 1:** Choose a suitable loop (`for` or `while`).  \n",
        "🔹 **Step 2:** Stop the loop when the exchange rate reaches the target.  \n",
        "🔹 **Step 3:** Implement a Python program using **ipywidgets** to **track the currency exchange rate interactively**.\n",
        "\n",
        "---"
      ],
      "metadata": {
        "id": "lD82JT7-KXqK"
      }
    },
    {
      "cell_type": "code",
      "source": [
        "import ipywidgets as widgets\n",
        "from IPython.display import display\n",
        "\n",
        "def track_exchange(b):\n",
        "    output.clear_output()\n",
        "    rate = 290\n",
        "    target = 300\n",
        "    with output:\n",
        "        while rate <= target:\n",
        "            print(\"Exchange Rate: PKR\", rate, \"/ USD\")\n",
        "            rate +=1\n",
        "            if rate > target:\n",
        "                break\n",
        "\n",
        "button = widgets.Button(description=\"Track Exchange\")\n",
        "output = widgets.Output()\n",
        "button.on_click(track_exchange)\n",
        "\n",
        "display(button, output)\n"
      ],
      "metadata": {
        "id": "3xiDWiabKwfr",
        "colab": {
          "base_uri": "https://localhost:8080/",
          "height": 49,
          "referenced_widgets": [
            "3f8ceb29f1484e809237b037fd49d5f0",
            "3cba6110794740c5b2f65ccdfa9214b3",
            "4f715567355548ca9dec0a73cf4174be",
            "11faa0c6d1a74d32a8a304e1d3ee88e3",
            "41f047c142084e20878e776d870467de"
          ]
        },
        "outputId": "22e34f2d-7a08-4e34-bab2-95d887dba7e2"
      },
      "execution_count": 30,
      "outputs": [
        {
          "output_type": "display_data",
          "data": {
            "text/plain": [
              "Button(description='Track Exchange', style=ButtonStyle())"
            ],
            "application/vnd.jupyter.widget-view+json": {
              "version_major": 2,
              "version_minor": 0,
              "model_id": "3f8ceb29f1484e809237b037fd49d5f0"
            }
          },
          "metadata": {}
        },
        {
          "output_type": "display_data",
          "data": {
            "text/plain": [
              "Output()"
            ],
            "application/vnd.jupyter.widget-view+json": {
              "version_major": 2,
              "version_minor": 0,
              "model_id": "11faa0c6d1a74d32a8a304e1d3ee88e3"
            }
          },
          "metadata": {}
        }
      ]
    },
    {
      "cell_type": "markdown",
      "source": [
        "*   \n",
        "*\n",
        "*   \n",
        "*   \n",
        "*   \n",
        "*\n",
        "*   \n",
        "*"
      ],
      "metadata": {
        "id": "-gpSKR0APnLP"
      }
    },
    {
      "cell_type": "markdown",
      "source": [
        "\n",
        "\n",
        "---\n",
        "\n",
        "\n",
        "======================================== *to err is human* ========================================\n",
        "\n",
        "\n",
        "---\n",
        "\n"
      ],
      "metadata": {
        "id": "hUFnFKjmKxeH"
      }
    },
    {
      "cell_type": "markdown",
      "source": [
        "*   \n",
        "*\n",
        "*   \n",
        "*   \n",
        "*   \n",
        "*\n",
        "*   \n",
        "*\n",
        "\n",
        "---\n",
        "\n",
        "## **🎯 Grading Rubric (20 Marks)**  \n",
        "\n",
        "| **Criteria**           | **🌟 Excellent (4 Marks)** | **✅ Good (3 Marks)** | **⚠️ Satisfactory (2 Marks)** | **❌ Needs Improvement (1 Mark)** | **🚫 No Attempt (0 Marks)** |\n",
        "|------------------------|-----------------------|------------------|----------------------|----------------------|----------------------|\n",
        "| **📝 Loan Eligibility System**  | ✅ Correct logic with `ipywidgets`, handles user input well. | ⚠️ Mostly correct logic, minor issues. | ❌ Basic logic but missing conditions. | 🚫 Major errors in implementation. | ❌ No implementation. |\n",
        "| **📊 Investment Risk Assessment**  | ✅ Efficient looping with correct risk classification and `ipywidgets`. | ⚠️ Minor issues in logic or implementation. | ❌ Some conditions missing, basic implementation. | 🚫 Incorrect or incomplete logic. | ❌ No implementation. |\n",
        "| **💰 Loan Repayment Tracker**  | ✅ Tracks repayment correctly, interactive using `ipywidgets`. | ⚠️ Correct logic but missing interactivity. | ❌ Loop present but some logic missing. | 🚫 Incorrect approach. | ❌ No implementation. |\n",
        "| **📈 Stock Price Monitoring**  | ✅ Proper use of `continue` and `break`, handles missing values. | ⚠️ Minor logic issues, mostly correct. | ❌ Some conditions missing, partially correct. | 🚫 Incorrect logic, missing key elements. | ❌ No implementation. |\n",
        "| **💹 Currency Exchange Tracker**  | ✅ Correct loop, stops at target rate, structured well with `ipywidgets`. | ⚠️ Mostly correct, minor inefficiencies. | ❌ Incorrect stopping condition, basic implementation. | 🚫 Incorrect approach. | ❌ No implementation. |\n",
        "| **📜 Code Quality & Structure**  | ✅ Well-commented, clean code, follows best practices. | ⚠️ Mostly structured but needs better readability. | ❌ Works but lacks clarity. | 🚫 Unstructured, lacks comments. | ❌ No code present. |\n",
        "| **🎛️ Use of `ipywidgets`** | ✅ Used effectively in all parts, enhances interactivity. | ⚠️ Used in most parts but minor inefficiencies. | ❌ Implemented but not fully functional. | 🚫 Attempted but not used correctly. | ❌ No implementation. |\n",
        "| **📂 GitHub Submission & Documentation** | ✅ Well-structured repo, proper `README.md`. | ⚠️ Repo exists but lacks structured documentation. | ❌ Basic submission, missing details. | 🚫 Attempted but incomplete. | ❌ No submission. |\n",
        "| **📤 Google Classroom Submission** | ✅ Submitted correctly with all required elements. | ⚠️ Submitted but missing minor details. | ❌ Late submission or incomplete. | 🚫 Attempted but missing key parts. | ❌ No submission. |\n",
        "| **🔎 Overall Implementation & Accuracy** | ✅ All features implemented correctly, runs smoothly. | ⚠️ Most features implemented, minor issues. | ❌ Some features missing but basic functionality works. | 🚫 Major features missing. | ❌ No implementation. |\n",
        "\n",
        "---\n",
        "\n"
      ],
      "metadata": {
        "id": "E2rlRDSuPPRt"
      }
    },
    {
      "cell_type": "markdown",
      "source": [
        "*Follow the deadline. This is an individual assignment. Do not copy/paste from LLMs or from other students.*"
      ],
      "metadata": {
        "id": "-_kwwSB6PiZp"
      }
    }
  ]
}